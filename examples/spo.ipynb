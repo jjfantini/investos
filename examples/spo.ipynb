{
 "cells": [
  {
   "cell_type": "code",
   "execution_count": 1,
   "id": "b916eae5-159c-46f9-b869-55866686c35e",
   "metadata": {
    "execution": {
     "iopub.execute_input": "2024-07-16T18:36:23.514356Z",
     "iopub.status.busy": "2024-07-16T18:36:23.513711Z",
     "iopub.status.idle": "2024-07-16T18:36:24.889943Z",
     "shell.execute_reply": "2024-07-16T18:36:24.889671Z",
     "shell.execute_reply.started": "2024-07-16T18:36:23.514314Z"
    }
   },
   "outputs": [],
   "source": [
    "import pandas as pd\n",
    "import investos as inv\n",
    "from investos.portfolio.cost_model import *\n",
    "from investos.portfolio.constraint_model import *"
   ]
  },
  {
   "cell_type": "code",
   "execution_count": 2,
   "id": "10c4be82-1de9-4384-9b61-88772101707c",
   "metadata": {
    "execution": {
     "iopub.execute_input": "2024-07-16T18:36:24.890647Z",
     "iopub.status.busy": "2024-07-16T18:36:24.890557Z",
     "iopub.status.idle": "2024-07-16T18:36:27.085324Z",
     "shell.execute_reply": "2024-07-16T18:36:27.084488Z",
     "shell.execute_reply.started": "2024-07-16T18:36:24.890641Z"
    },
    "tags": []
   },
   "outputs": [],
   "source": [
    "actual_returns = pd.read_parquet(\"https://investos.io/example_actual_returns.parquet\")\n",
    "forecast_returns = pd.read_parquet(\"https://investos.io/example_forecast_returns.parquet\")"
   ]
  },
  {
   "cell_type": "code",
   "execution_count": 3,
   "id": "979b6a6c-6feb-4726-b23d-fc194b899533",
   "metadata": {
    "execution": {
     "iopub.execute_input": "2024-07-16T18:36:27.086806Z",
     "iopub.status.busy": "2024-07-16T18:36:27.086291Z",
     "iopub.status.idle": "2024-07-16T18:36:28.590130Z",
     "shell.execute_reply": "2024-07-16T18:36:28.589039Z",
     "shell.execute_reply.started": "2024-07-16T18:36:27.086781Z"
    },
    "tags": []
   },
   "outputs": [],
   "source": [
    "# For trading costs:\n",
    "actual_prices = pd.read_parquet(\"https://investos.io/example_spo_actual_prices.parquet\")\n",
    "forecast_volume = pd.Series(\n",
    "    pd.read_csv(\"https://investos.io/example_spo_forecast_volume.csv\", index_col=\"asset\")\n",
    "    .squeeze(),\n",
    "    name=\"forecast_volume\"\n",
    ")\n",
    "forecast_std_dev = pd.Series(\n",
    "    pd.read_csv(\"https://investos.io/example_spo_forecast_std_dev.csv\", index_col=\"asset\")\n",
    "    .squeeze(),\n",
    "    name=\"forecast_std_dev\"\n",
    ")\n",
    "half_spread_percent = 2.5 / 10_000 # 2.5 bps\n",
    "half_spread = pd.Series(index=forecast_returns.columns, data=half_spread_percent)"
   ]
  },
  {
   "cell_type": "code",
   "execution_count": 4,
   "id": "d1bed968-ed87-4b7f-953f-fc320a7fd3d4",
   "metadata": {
    "execution": {
     "iopub.execute_input": "2024-07-16T18:36:28.593246Z",
     "iopub.status.busy": "2024-07-16T18:36:28.592849Z",
     "iopub.status.idle": "2024-07-16T18:36:28.598558Z",
     "shell.execute_reply": "2024-07-16T18:36:28.596840Z",
     "shell.execute_reply.started": "2024-07-16T18:36:28.593217Z"
    },
    "tags": []
   },
   "outputs": [],
   "source": [
    "# For short holding costs:\n",
    "short_cost_percent = 40 / 10_000 # 40 bps\n",
    "trading_days_per_year = 252\n",
    "short_rates = pd.Series(index=forecast_returns.columns, data=short_cost_percent/trading_days_per_year)"
   ]
  },
  {
   "cell_type": "code",
   "execution_count": 5,
   "id": "bc296f92-d0cd-4715-b74c-7fb78ae44ae2",
   "metadata": {
    "execution": {
     "iopub.execute_input": "2024-07-16T18:42:10.112838Z",
     "iopub.status.busy": "2024-07-16T18:42:10.112246Z",
     "iopub.status.idle": "2024-07-16T18:42:10.125715Z",
     "shell.execute_reply": "2024-07-16T18:42:10.124587Z",
     "shell.execute_reply.started": "2024-07-16T18:42:10.112803Z"
    },
    "tags": []
   },
   "outputs": [],
   "source": [
    "strategy = inv.portfolio.strategy.SPO(\n",
    "    actual_returns = actual_returns,\n",
    "    forecast_returns = forecast_returns,\n",
    "    costs = [\n",
    "        ShortHoldingCost(short_rates=short_rates, exclude_assets=[\"cash\"]),\n",
    "        TradingCost(\n",
    "            actual_prices=actual_prices,\n",
    "            forecast_volume=forecast_volume,\n",
    "            forecast_std_dev=forecast_std_dev,\n",
    "            half_spread=half_spread,\n",
    "            exclude_assets=[\"cash\"],\n",
    "        ),\n",
    "    ],\n",
    "    constraints = [\n",
    "        MaxShortLeverageConstraint(limit=0.3),\n",
    "        MaxLongLeverageConstraint(limit=1.3),\n",
    "        MinWeightConstraint(limit=-0.03),\n",
    "        MaxWeightConstraint(limit=0.03),\n",
    "        LongCashConstraint(),\n",
    "        MaxAbsTurnoverConstraint(limit=0.05),\n",
    "    ],\n",
    "    cash_column_name=\"cash\"\n",
    ")"
   ]
  },
  {
   "cell_type": "code",
   "execution_count": 6,
   "id": "3a0d2038-e8a6-4cba-9af2-454c79d25c05",
   "metadata": {
    "execution": {
     "iopub.execute_input": "2024-07-16T18:42:10.281288Z",
     "iopub.status.busy": "2024-07-16T18:42:10.280758Z",
     "iopub.status.idle": "2024-07-16T18:42:10.288612Z",
     "shell.execute_reply": "2024-07-16T18:42:10.287363Z",
     "shell.execute_reply.started": "2024-07-16T18:42:10.281249Z"
    },
    "tags": []
   },
   "outputs": [],
   "source": [
    "portfolio = inv.portfolio.BacktestController(\n",
    "    strategy=strategy,\n",
    "    start_date='2017-01-01',\n",
    "    end_date='2018-01-01',\n",
    "    hooks = {\n",
    "        \"after_trades\": [\n",
    "            lambda backtest, t, u, h_next: print(\".\", end=''),\n",
    "        ]\n",
    "    }\n",
    ")"
   ]
  },
  {
   "cell_type": "code",
   "execution_count": 7,
   "id": "ad515921-0be9-4df3-9b02-8490c86d79f5",
   "metadata": {
    "execution": {
     "iopub.execute_input": "2024-07-16T18:42:10.496170Z",
     "iopub.status.busy": "2024-07-16T18:42:10.494979Z",
     "iopub.status.idle": "2024-07-16T18:43:12.364144Z",
     "shell.execute_reply": "2024-07-16T18:43:12.363893Z",
     "shell.execute_reply.started": "2024-07-16T18:42:10.496116Z"
    },
    "tags": []
   },
   "outputs": [
    {
     "name": "stdout",
     "output_type": "stream",
     "text": [
      "Generating historical portfolio trades and positions at 2025-09-09 20:13:44...\n",
      "...........................................................................................................................................................................................................................................................\n",
      "\n",
      "Done simulating at 2025-09-09 20:15:17.\n"
     ]
    }
   ],
   "source": [
    "backtest_result = portfolio.generate_positions()"
   ]
  },
  {
   "cell_type": "code",
   "execution_count": 8,
   "id": "d9ef6a7a-68c3-42fa-a8dc-6272660b3eda",
   "metadata": {
    "execution": {
     "iopub.execute_input": "2024-07-16T18:43:12.364856Z",
     "iopub.status.busy": "2024-07-16T18:43:12.364777Z",
     "iopub.status.idle": "2024-07-16T18:43:12.384146Z",
     "shell.execute_reply": "2024-07-16T18:43:12.383904Z",
     "shell.execute_reply.started": "2024-07-16T18:43:12.364849Z"
    },
    "tags": []
   },
   "outputs": [
    {
     "name": "stdout",
     "output_type": "stream",
     "text": [
      "Initial timestamp                         2017-01-03 00:00:00\n",
      "Final timestamp                           2017-12-29 00:00:00\n",
      "Total portfolio return (%)                              4.29%\n",
      "Annualized portfolio return (%)                         4.35%\n",
      "Annualized excess portfolio return (%)                  1.29%\n",
      "Annualized excess risk (%)                              2.52%\n",
      "Information ratio (x)                                   0.51x\n",
      "Annualized risk over risk-free (%)                      2.52%\n",
      "Sharpe ratio (x)                                        0.51x\n",
      "Max drawdown (%)                                        1.11%\n",
      "Annual turnover (x)                                     12.8x\n",
      "Portfolio hit rate (%)                                  59.2%\n"
     ]
    }
   ],
   "source": [
    "backtest_result.summary"
   ]
  },
  {
   "cell_type": "code",
   "execution_count": null,
   "id": "46690049-9bca-482d-92ce-4e4b3f067c05",
   "metadata": {},
   "outputs": [],
   "source": []
  }
 ],
 "metadata": {
  "kernelspec": {
   "display_name": ".venv",
   "language": "python",
   "name": "python3"
  },
  "language_info": {
   "codemirror_mode": {
    "name": "ipython",
    "version": 3
   },
   "file_extension": ".py",
   "mimetype": "text/x-python",
   "name": "python",
   "nbconvert_exporter": "python",
   "pygments_lexer": "ipython3",
   "version": "3.12.10"
  }
 },
 "nbformat": 4,
 "nbformat_minor": 5
}
